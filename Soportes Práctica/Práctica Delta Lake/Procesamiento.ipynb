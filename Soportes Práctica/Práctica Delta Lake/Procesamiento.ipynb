{
 "cells": [
  {
   "cell_type": "markdown",
   "metadata": {
    "application/vnd.databricks.v1+cell": {
     "cellMetadata": {},
     "inputWidgets": {},
     "nuid": "5f2544c6-cadd-4b16-a96e-ac5996690e4d",
     "showTitle": false,
     "tableResultSettingsMap": {},
     "title": ""
    }
   },
   "source": [
    "## Validar que el archivo cliente.csv se encuentre en raw_data"
   ]
  },
  {
   "cell_type": "code",
   "execution_count": 0,
   "metadata": {
    "application/vnd.databricks.v1+cell": {
     "cellMetadata": {
      "byteLimit": 2048000,
      "rowLimit": 10000
     },
     "inputWidgets": {},
     "nuid": "f90c94c8-91f2-4d6a-a4b1-149666ecddaa",
     "showTitle": false,
     "tableResultSettingsMap": {},
     "title": ""
    }
   },
   "outputs": [
    {
     "data": {
      "text/html": [
       "<style scoped>\n",
       "  .table-result-container {\n",
       "    max-height: 300px;\n",
       "    overflow: auto;\n",
       "  }\n",
       "  table, th, td {\n",
       "    border: 1px solid black;\n",
       "    border-collapse: collapse;\n",
       "  }\n",
       "  th, td {\n",
       "    padding: 5px;\n",
       "  }\n",
       "  th {\n",
       "    text-align: left;\n",
       "  }\n",
       "</style><div class='table-result-container'><table class='table-result'><thead style='background-color: white'><tr><th>path</th><th>name</th><th>size</th><th>modificationTime</th></tr></thead><tbody><tr><td>dbfs:/FileStore/Delta_Lake/deltalake/bronze/raw_data/clientes.csv</td><td>clientes.csv</td><td>3573</td><td>1742508749000</td></tr></tbody></table></div>"
      ]
     },
     "metadata": {
      "application/vnd.databricks.v1+output": {
       "addedWidgets": {},
       "aggData": [],
       "aggError": "",
       "aggOverflow": false,
       "aggSchema": [],
       "aggSeriesLimitReached": false,
       "aggType": "",
       "arguments": {},
       "columnCustomDisplayInfos": {},
       "data": [
        [
         "dbfs:/FileStore/Delta_Lake/deltalake/bronze/raw_data/clientes.csv",
         "clientes.csv",
         3573,
         1742508749000
        ]
       ],
       "datasetInfos": [],
       "dbfsResultPath": null,
       "isJsonSchema": true,
       "metadata": {},
       "overflow": false,
       "plotOptions": {
        "customPlotOptions": {},
        "displayType": "table",
        "pivotAggregation": null,
        "pivotColumns": null,
        "xColumns": null,
        "yColumns": null
       },
       "removedWidgets": [],
       "schema": [
        {
         "metadata": "{}",
         "name": "path",
         "type": "\"string\""
        },
        {
         "metadata": "{}",
         "name": "name",
         "type": "\"string\""
        },
        {
         "metadata": "{}",
         "name": "size",
         "type": "\"long\""
        },
        {
         "metadata": "{}",
         "name": "modificationTime",
         "type": "\"long\""
        }
       ],
       "type": "table"
      }
     },
     "output_type": "display_data"
    }
   ],
   "source": [
    "# Listar archivos en la carpeta Bronze\n",
    "display(dbutils.fs.ls(\"dbfs:/FileStore/Delta_Lake/deltalake/bronze/raw_data/\"))\n"
   ]
  },
  {
   "cell_type": "markdown",
   "metadata": {
    "application/vnd.databricks.v1+cell": {
     "cellMetadata": {},
     "inputWidgets": {},
     "nuid": "0f126e25-032b-4606-8894-d03e009a6bcc",
     "showTitle": false,
     "tableResultSettingsMap": {},
     "title": ""
    }
   },
   "source": [
    "##Cargar el Archivo en un DataFrame en **Databricks** (Bronze)"
   ]
  },
  {
   "cell_type": "code",
   "execution_count": 0,
   "metadata": {
    "application/vnd.databricks.v1+cell": {
     "cellMetadata": {
      "byteLimit": 2048000,
      "rowLimit": 10000
     },
     "inputWidgets": {},
     "nuid": "9681e94c-ad97-485a-89c9-f76262bb960a",
     "showTitle": false,
     "tableResultSettingsMap": {},
     "title": ""
    }
   },
   "outputs": [],
   "source": [
    "from pyspark.sql.types import StructType, StructField, StringType, IntegerType\n",
    "\n",
    "# Definir el esquema \n",
    "schema = StructType([\n",
    "    StructField(\"id_cliente\", IntegerType(), True),\n",
    "    StructField(\"nombre\", StringType(), True),\n",
    "    StructField(\"pais\", StringType(), True),  \n",
    "    StructField(\"edad\", IntegerType(), True),\n",
    "    StructField(\"genero\", StringType(), True)  \n",
    "])\n",
    "\n",
    "# Leer el archivo CSV con el esquema \n",
    "df_bronze = spark.read.format(\"csv\") \\\n",
    "    .option(\"header\", \"true\") \\\n",
    "    .schema(schema) \\\n",
    "    .load(\"dbfs:/FileStore/Delta_Lake/deltalake/bronze/raw_data/clientes.csv\")\n",
    "\n",
    "# Guardar en la capa Bronze con la opción de sobrescribir esquema\n",
    "df_bronze.write.format(\"delta\") \\\n",
    "    .mode(\"overwrite\") \\\n",
    "    .option(\"overwriteSchema\", \"true\") \\\n",
    "    .save(\"dbfs:/FileStore/Delta_Lake/deltalake/bronze/clientes\")  \n"
   ]
  },
  {
   "cell_type": "markdown",
   "metadata": {
    "application/vnd.databricks.v1+cell": {
     "cellMetadata": {},
     "inputWidgets": {},
     "nuid": "de0da24a-5c7f-44c9-9f52-4d34911df541",
     "showTitle": false,
     "tableResultSettingsMap": {},
     "title": ""
    }
   },
   "source": [
    "## Verificar que los Datos se Guardaron Correctamente"
   ]
  },
  {
   "cell_type": "code",
   "execution_count": 0,
   "metadata": {
    "application/vnd.databricks.v1+cell": {
     "cellMetadata": {
      "byteLimit": 2048000,
      "rowLimit": 10000
     },
     "inputWidgets": {},
     "nuid": "db4d8759-fe9b-4897-9a97-9e409ceec3dc",
     "showTitle": false,
     "tableResultSettingsMap": {},
     "title": ""
    }
   },
   "outputs": [
    {
     "name": "stdout",
     "output_type": "stream",
     "text": [
      "root\n",
      " |-- id_cliente: integer (nullable = true)\n",
      " |-- nombre: string (nullable = true)\n",
      " |-- pais: string (nullable = true)\n",
      " |-- edad: integer (nullable = true)\n",
      " |-- genero: string (nullable = true)\n",
      "\n",
      "+----------+---------------+--------------------+----+------+\n",
      "|id_cliente|         nombre|                pais|edad|genero|\n",
      "+----------+---------------+--------------------+----+------+\n",
      "|         1|    James Hayes|             Bolivia|  33|     F|\n",
      "|         2|   Lucas Morgan|Saint Vincent and...|  39|     F|\n",
      "|         3|Jennifer Garcia|Saint Vincent and...|  51|     M|\n",
      "|         4|  Edward Watson|          Luxembourg|  18|     F|\n",
      "|         5|   Haley Morris|        South Africa|  23|     F|\n",
      "|         6|    Carl Foster|               Italy|  20|     M|\n",
      "|         7|    Donna Lucas|           Indonesia|  61|     F|\n",
      "|         8|     Kyle Mccoy|             Vanuatu|  26|     M|\n",
      "|         9|     Marie Diaz|         Philippines|  55|     F|\n",
      "|        10|   Angela Jones|             Namibia|  66|     F|\n",
      "+----------+---------------+--------------------+----+------+\n",
      "only showing top 10 rows\n",
      "\n"
     ]
    }
   ],
   "source": [
    "# Leer los datos desde la capa Bronze\n",
    "df_bronze = spark.read.format(\"delta\").load(\"dbfs:/FileStore/Delta_Lake/deltalake/bronze/clientes\")\n",
    "\n",
    "# Mostrar el esquema de los datos\n",
    "df_bronze.printSchema()\n",
    "\n",
    "# Mostrar las primeras filas de los datos\n",
    "df_bronze.show(10)\n"
   ]
  },
  {
   "cell_type": "markdown",
   "metadata": {
    "application/vnd.databricks.v1+cell": {
     "cellMetadata": {},
     "inputWidgets": {},
     "nuid": "88638cf4-07bd-4e14-a349-d3e25669bc68",
     "showTitle": false,
     "tableResultSettingsMap": {},
     "title": ""
    }
   },
   "source": [
    "## Transformación para y guardarlos en la Capa Silver\n",
    "- Eliminar registros con valores vacíos en cualquier columna.\n",
    "- Reemplazar 'F' por 'Femenino' y 'M' por 'Masculino' en la columna genero"
   ]
  },
  {
   "cell_type": "code",
   "execution_count": 0,
   "metadata": {
    "application/vnd.databricks.v1+cell": {
     "cellMetadata": {
      "byteLimit": 2048000,
      "rowLimit": 10000
     },
     "collapsed": true,
     "inputWidgets": {},
     "nuid": "fe42481a-8249-4526-b3b4-deca9d969b67",
     "showTitle": false,
     "tableResultSettingsMap": {},
     "title": ""
    }
   },
   "outputs": [],
   "source": [
    "from pyspark.sql.functions import col, when\n",
    "\n",
    "# Cargar los datos desde la capa Bronze\n",
    "df_silver = spark.read.format(\"delta\").load(\"dbfs:/FileStore/Delta_Lake/deltalake/bronze/clientes\")\n",
    "\n",
    "# Eliminar registros con valores vacíos en cualquier columna\n",
    "df_silver = df_silver.dropna()\n",
    "\n",
    "# Reemplazar 'F' por 'Femenino' y 'M' por 'Masculino'\n",
    "df_silver = df_silver.withColumn(\"genero\",\n",
    "                  when(col(\"genero\") == \"F\", \"Femenino\")\n",
    "                  .when(col(\"genero\") == \"M\", \"Masculino\")\n",
    "                  .otherwise(col(\"genero\")))\n",
    "\n",
    "# Guardar los datos transformados en la capa Silver\n",
    "df_silver.write.format(\"delta\") \\\n",
    "    .mode(\"overwrite\") \\\n",
    "    .option(\"overwriteSchema\", \"true\") \\\n",
    "    .save(\"dbfs:/FileStore/Delta_Lake/deltalake/silver/clientes\")\n"
   ]
  },
  {
   "cell_type": "markdown",
   "metadata": {
    "application/vnd.databricks.v1+cell": {
     "cellMetadata": {},
     "inputWidgets": {},
     "nuid": "7df3942f-d0dc-4e4c-8e8c-a048f66e5708",
     "showTitle": false,
     "tableResultSettingsMap": {},
     "title": ""
    }
   },
   "source": [
    "### Verificar los Datos en Silver"
   ]
  },
  {
   "cell_type": "code",
   "execution_count": 0,
   "metadata": {
    "application/vnd.databricks.v1+cell": {
     "cellMetadata": {
      "byteLimit": 2048000,
      "rowLimit": 10000
     },
     "inputWidgets": {},
     "nuid": "c803fe5c-cc90-40e0-8738-7cf1b17c58d9",
     "showTitle": false,
     "tableResultSettingsMap": {},
     "title": ""
    }
   },
   "outputs": [
    {
     "name": "stdout",
     "output_type": "stream",
     "text": [
      "root\n",
      " |-- id_cliente: integer (nullable = true)\n",
      " |-- nombre: string (nullable = true)\n",
      " |-- pais: string (nullable = true)\n",
      " |-- edad: integer (nullable = true)\n",
      " |-- genero: string (nullable = true)\n",
      "\n",
      "+----------+---------------+--------------------+----+---------+\n",
      "|id_cliente|         nombre|                pais|edad|   genero|\n",
      "+----------+---------------+--------------------+----+---------+\n",
      "|         1|    James Hayes|             Bolivia|  33| Femenino|\n",
      "|         2|   Lucas Morgan|Saint Vincent and...|  39| Femenino|\n",
      "|         3|Jennifer Garcia|Saint Vincent and...|  51|Masculino|\n",
      "|         4|  Edward Watson|          Luxembourg|  18| Femenino|\n",
      "|         5|   Haley Morris|        South Africa|  23| Femenino|\n",
      "+----------+---------------+--------------------+----+---------+\n",
      "only showing top 5 rows\n",
      "\n"
     ]
    }
   ],
   "source": [
    "# Leer los datos desde la capa Silver\n",
    "df_silver = spark.read.format(\"delta\").load(\"dbfs:/FileStore/Delta_Lake/deltalake/silver/clientes\")\n",
    "\n",
    "# Mostrar el esquema y los primeros registros\n",
    "df_silver.printSchema()\n",
    "df_silver.show(5)\n"
   ]
  },
  {
   "cell_type": "markdown",
   "metadata": {
    "application/vnd.databricks.v1+cell": {
     "cellMetadata": {},
     "inputWidgets": {},
     "nuid": "52ccc675-4b85-431a-a1f1-19015a614a64",
     "showTitle": false,
     "tableResultSettingsMap": {},
     "title": ""
    }
   },
   "source": [
    "## Definir las Transformaciones en la Capa Gold"
   ]
  },
  {
   "cell_type": "code",
   "execution_count": 0,
   "metadata": {
    "application/vnd.databricks.v1+cell": {
     "cellMetadata": {
      "byteLimit": 2048000,
      "rowLimit": 10000
     },
     "inputWidgets": {},
     "nuid": "20173202-bb8b-4d2f-81da-0c1c4a022b52",
     "showTitle": false,
     "tableResultSettingsMap": {},
     "title": ""
    }
   },
   "outputs": [],
   "source": [
    "from pyspark.sql.functions import avg, count\n",
    "\n",
    "# Cargar los datos desde la capa Silver\n",
    "df_gold = spark.read.format(\"delta\").load(\"dbfs:/FileStore/Delta_Lake/deltalake/silver/clientes\")\n",
    "\n",
    "# 1️.Calcular el promedio de edad por país\n",
    "df_promedio_edad = df_gold.groupBy(\"pais\").agg(avg(\"edad\").alias(\"edad_promedio\"))\n",
    "\n",
    "# 2️. Calcular la cantidad de clientes por género\n",
    "df_conteo_genero = df_gold.groupBy(\"genero\").agg(count(\"id_cliente\").alias(\"total_clientes\"))\n",
    "\n",
    "# Guardar los datos transformados en la capa Gold\n",
    "df_promedio_edad.write.format(\"delta\") \\\n",
    "    .mode(\"overwrite\") \\\n",
    "    .option(\"overwriteSchema\", \"true\") \\\n",
    "    .save(\"dbfs:/FileStore/Delta_Lake/deltalake/gold/promedio_edad\")\n",
    "\n",
    "df_conteo_genero.write.format(\"delta\") \\\n",
    "    .mode(\"overwrite\") \\\n",
    "    .option(\"overwriteSchema\", \"true\") \\\n",
    "    .save(\"dbfs:/FileStore/Delta_Lake/deltalake/gold/conteo_genero\")\n"
   ]
  },
  {
   "cell_type": "markdown",
   "metadata": {
    "application/vnd.databricks.v1+cell": {
     "cellMetadata": {},
     "inputWidgets": {},
     "nuid": "02e22884-d0d8-4ae6-ad68-1d1086f95e1c",
     "showTitle": false,
     "tableResultSettingsMap": {},
     "title": ""
    }
   },
   "source": [
    "### Verificación de datos en la Capa Gold"
   ]
  },
  {
   "cell_type": "markdown",
   "metadata": {
    "application/vnd.databricks.v1+cell": {
     "cellMetadata": {},
     "inputWidgets": {},
     "nuid": "d8a56bd1-0227-43e5-b2d3-cef2bcbad573",
     "showTitle": false,
     "tableResultSettingsMap": {},
     "title": ""
    }
   },
   "source": [
    "### Ver Promedio de Edad por País"
   ]
  },
  {
   "cell_type": "code",
   "execution_count": 0,
   "metadata": {
    "application/vnd.databricks.v1+cell": {
     "cellMetadata": {
      "byteLimit": 2048000,
      "rowLimit": 10000
     },
     "inputWidgets": {},
     "nuid": "515ddcc0-38b0-474c-8db9-f19aab175354",
     "showTitle": false,
     "tableResultSettingsMap": {},
     "title": ""
    }
   },
   "outputs": [
    {
     "name": "stdout",
     "output_type": "stream",
     "text": [
      "+--------------------+------------------+\n",
      "|                pais|     edad_promedio|\n",
      "+--------------------+------------------+\n",
      "|            Kiribati|              65.0|\n",
      "|French Southern T...|              59.0|\n",
      "|         Philippines|              55.0|\n",
      "|              Jersey|              57.0|\n",
      "|           Singapore|              43.0|\n",
      "|                Fiji|24.666666666666668|\n",
      "|Northern Mariana ...|              29.0|\n",
      "|            Maldives|              28.0|\n",
      "|               Sudan|              49.0|\n",
      "|               Palau|              51.0|\n",
      "|              France|              57.0|\n",
      "|              Greece|              21.0|\n",
      "|           Sri Lanka|              24.0|\n",
      "|             Algeria|              44.0|\n",
      "|             Reunion|              53.0|\n",
      "|           Argentina|              29.5|\n",
      "|             Belgium|              29.0|\n",
      "|          San Marino|              40.0|\n",
      "|             Ecuador|              29.0|\n",
      "|               Qatar|              40.0|\n",
      "+--------------------+------------------+\n",
      "only showing top 20 rows\n",
      "\n"
     ]
    }
   ],
   "source": [
    "df_promedio_edad = spark.read.format(\"delta\").load(\"dbfs:/FileStore/Delta_Lake/deltalake/gold/promedio_edad\")\n",
    "df_promedio_edad.show()\n"
   ]
  },
  {
   "cell_type": "markdown",
   "metadata": {
    "application/vnd.databricks.v1+cell": {
     "cellMetadata": {},
     "inputWidgets": {},
     "nuid": "78d839bb-ba84-4f2f-a5d3-eec31036d3f7",
     "showTitle": false,
     "tableResultSettingsMap": {},
     "title": ""
    }
   },
   "source": [
    "### Ver Conteo de Clientes por Género"
   ]
  },
  {
   "cell_type": "code",
   "execution_count": 0,
   "metadata": {
    "application/vnd.databricks.v1+cell": {
     "cellMetadata": {
      "byteLimit": 2048000,
      "rowLimit": 10000
     },
     "inputWidgets": {},
     "nuid": "e175ed7c-55f1-4f63-9f67-d5fef5d23c5b",
     "showTitle": false,
     "tableResultSettingsMap": {},
     "title": ""
    }
   },
   "outputs": [
    {
     "name": "stdout",
     "output_type": "stream",
     "text": [
      "+---------+--------------+\n",
      "|   genero|total_clientes|\n",
      "+---------+--------------+\n",
      "| Femenino|            46|\n",
      "|Masculino|            54|\n",
      "+---------+--------------+\n",
      "\n"
     ]
    }
   ],
   "source": [
    "df_conteo_genero = spark.read.format(\"delta\").load(\"dbfs:/FileStore/Delta_Lake/deltalake/gold/conteo_genero\")\n",
    "df_conteo_genero.show()\n"
   ]
  }
 ],
 "metadata": {
  "application/vnd.databricks.v1+notebook": {
   "computePreferences": null,
   "dashboards": [],
   "environmentMetadata": {
    "base_environment": "",
    "environment_version": "1"
   },
   "inputWidgetPreferences": null,
   "language": "python",
   "notebookMetadata": {
    "pythonIndentUnit": 4
   },
   "notebookName": "Procesamiento",
   "widgets": {}
  },
  "language_info": {
   "name": "python"
  }
 },
 "nbformat": 4,
 "nbformat_minor": 0
}
