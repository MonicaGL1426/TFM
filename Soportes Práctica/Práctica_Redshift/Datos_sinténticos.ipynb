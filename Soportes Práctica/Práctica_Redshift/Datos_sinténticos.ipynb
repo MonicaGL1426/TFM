{
  "nbformat": 4,
  "nbformat_minor": 0,
  "metadata": {
    "colab": {
      "provenance": []
    },
    "kernelspec": {
      "name": "python3",
      "display_name": "Python 3"
    },
    "language_info": {
      "name": "python"
    }
  },
  "cells": [
    {
      "cell_type": "code",
      "source": [
        "pip install faker"
      ],
      "metadata": {
        "colab": {
          "base_uri": "https://localhost:8080/"
        },
        "id": "OE6fhOoztqy0",
        "outputId": "c4e0614b-91d2-4cbe-d59a-f95e3e814469"
      },
      "execution_count": 2,
      "outputs": [
        {
          "output_type": "stream",
          "name": "stdout",
          "text": [
            "Collecting faker\n",
            "  Downloading faker-37.0.0-py3-none-any.whl.metadata (15 kB)\n",
            "Requirement already satisfied: tzdata in /usr/local/lib/python3.11/dist-packages (from faker) (2025.1)\n",
            "Downloading faker-37.0.0-py3-none-any.whl (1.9 MB)\n",
            "\u001b[2K   \u001b[90m━━━━━━━━━━━━━━━━━━━━━━━━━━━━━━━━━━━━━━━━\u001b[0m \u001b[32m1.9/1.9 MB\u001b[0m \u001b[31m20.7 MB/s\u001b[0m eta \u001b[36m0:00:00\u001b[0m\n",
            "\u001b[?25hInstalling collected packages: faker\n",
            "Successfully installed faker-37.0.0\n"
          ]
        }
      ]
    },
    {
      "cell_type": "code",
      "execution_count": 3,
      "metadata": {
        "id": "FtlHrUKatc89"
      },
      "outputs": [],
      "source": [
        "import pandas as pd\n",
        "import numpy as np\n",
        "from faker import Faker\n",
        "\n",
        "# Configuración\n",
        "faker = Faker()\n",
        "num_registros = 10000\n",
        "\n",
        "# Generar datos para clientes\n",
        "clientes = pd.DataFrame({\n",
        "    'ID_cliente': range(1, 501),\n",
        "    'nombre': [faker.name() for _ in range(500)],\n",
        "    'pais': [faker.country() for _ in range(500)],\n",
        "    'edad': np.random.randint(18, 70, 500),\n",
        "    'genero': np.random.choice(['M', 'F'], 500)\n",
        "})\n",
        "\n",
        "# Generar datos para productos\n",
        "productos = pd.DataFrame({\n",
        "    'ID_producto': range(1, 51),\n",
        "    'categoria': np.random.choice(['Electrónica', 'Ropa', 'Hogar', 'Deportes'], 50),\n",
        "    'proveedor': [faker.company() for _ in range(50)],\n",
        "    'costo': np.random.uniform(5, 500, 50).round(2)\n",
        "})\n",
        "\n",
        "# Generar datos de ventas (hechos)\n",
        "ventas = pd.DataFrame({\n",
        "    'ID_venta': range(1, num_registros+1),\n",
        "    'fecha': pd.date_range(start='2023-01-01', periods=num_registros, freq='D'),\n",
        "    'ID_cliente': np.random.randint(1, 501, num_registros),\n",
        "    'ID_producto': np.random.randint(1, 51, num_registros),\n",
        "    'cantidad': np.random.randint(1, 10, num_registros),\n",
        "})\n",
        "\n",
        "ventas['precio_unitario'] = ventas['ID_producto'].map(dict(zip(productos['ID_producto'], productos['costo'])))\n",
        "ventas['total'] = ventas['cantidad'] * ventas['precio_unitario']\n",
        "\n",
        "# Guardar en CSV para carga en Redshift\n",
        "clientes.to_csv(\"clientes.csv\", index=False)\n",
        "productos.to_csv(\"productos.csv\", index=False)\n",
        "ventas.to_csv(\"ventas.csv\", index=False)\n"
      ]
    }
  ]
}